{
 "cells": [
  {
   "cell_type": "markdown",
   "metadata": {
    "pycharm": {
     "name": "#%% md\n"
    },
    "tags": []
   },
   "source": [
    "# Tutorial on DER Hosting Capacity | <font color=red>Part 1</font>: Advanced Tools for the Analysis of Three-Phase Unbalanced LV Networks"
   ]
  },
  {
   "cell_type": "markdown",
   "metadata": {
    "pycharm": {
     "name": "#%% md\n"
    }
   },
   "source": [
    "## 1. Introduction \n",
    "\n",
    "### Objectives \n",
    "The objectives of this tutorial are:\n",
    "1. To familiarise with the process by which power engineers can run a **power flow** for a given **low voltage (LV) distribution network**. To achieve this, you will learn the basics of how to model an LV distribution network and investigate certain aspects such as voltage regulation and energy losses.\n",
    "\n",
    "2. To continue familiarising with **advanced tools** useful to run distribution network studies involving DERs. You will continue using [OpenDSS](https://www.epri.com/pages/sa/opendss) via the [DSS-Python](https://github.com/dss-extensions/DSS-Python) module. And, to guide you, all will be done using a notebook on [Jupyter Notebook](https://jupyter.org/).\n",
    "\n",
    "### Structure of this Notebook\n",
    "The rest of this notebook is divided into two parts:\n",
    "\n",
    "- **2. Tutorial.** Here you will learn, step by step, how to model a distribution network and analyse what-if scenarios by running power flows with OpenDSS and Python.\n",
    "- **3. Exercises.** Here you will go through some exercises that will help you familiarise with the **`code`** and how to modify it for different purposes.\n",
    "- **4. Simulation Workspace.** Here you can place all your code to run it at once. You should use **`code`** that is relevant to each exercise."
   ]
  },
  {
   "cell_type": "markdown",
   "metadata": {
    "pycharm": {
     "name": "#%% md\n"
    }
   },
   "source": [
    "## 2. Tutorial "
   ]
  },
  {
   "cell_type": "markdown",
   "metadata": {
    "pycharm": {
     "name": "#%% md\n"
    }
   },
   "source": [
    "To learn how to use OpenDSS and Python to do LV network analyses, we will first create the simple LV network shown in the figure below. We have a transformer (11kV/0.4kV), a three-phase line connecting bus A with bus B, and three single-phase lines connecting bus B with buses C, D, and E. Buses C, D, and E represent the connection points of three different houses.\n",
    "* The 11kV and 0.4kV are line-to-line nominal values. Thus, the single-phase houses will have a nominal line-to-neutral value of 230V."
   ]
  },
  {
   "cell_type": "markdown",
   "metadata": {
    "pycharm": {
     "name": "#%% md\n"
    }
   },
   "source": [
    "<center> <img style=\"float: middle;\" src=\"Figure_1.png\" width=\"40%\"> </center>"
   ]
  },
  {
   "cell_type": "markdown",
   "metadata": {
    "pycharm": {
     "name": "#%% md\n"
    }
   },
   "source": [
    "**<center> Figure 1. Simple LV Network</center>** "
   ]
  },
  {
   "cell_type": "markdown",
   "metadata": {
    "pycharm": {
     "name": "#%% md\n"
    }
   },
   "source": [
    "Follow the steps below. **And let's begin!**\n",
    "\n",
    "<font color='red'>**<u>Note</u>:**</font> You will need to run the code in each cell. Select the code cell (a **<font color='blue'>blue</font> or <font color='green'>green</font> box [ ]** surrounding the cell will appear) and then click on the &#9654; **`Run`** button on top of the page to run the corresponding code (or use the shortcut `Control`-`Enter`). Since you will be running code, **you will need to run the cells sequentially**, one after the other without skipping code cells. A number will appear inside the brackets [X] indicating the number of the *run*."
   ]
  },
  {
   "cell_type": "markdown",
   "metadata": {
    "pycharm": {
     "name": "#%% md\n"
    }
   },
   "source": [
    "### 2.1 Load Modules\n",
    "First, we need to run the code below to load the modules that will be used in this tutorial. The purpose of these modules are:\n",
    "\n",
    "* **os:** Operating system module, it will be used to get the directory path.\n",
    "* **dss:** Module for interfacing Python code with OpenDSS. Here is more info about [DSS-Python](https://github.com/dss-extensions/DSS-Python) and other [DSS Extensions](https://dss-extensions.org/).\n",
    "\n",
    "<font color='red'>**<u>Note</u>:**</font> If there is an error in this step, that means that some of the modules are not installed in your computer, so go back to the info provided in Part 0 and make sure you have everything installed."
   ]
  },
  {
   "cell_type": "code",
   "metadata": {
    "pycharm": {
     "is_executing": true,
     "name": "#%%\n"
    },
    "ExecuteTime": {
     "end_time": "2024-12-04T23:29:55.162077Z",
     "start_time": "2024-12-04T23:29:55.155269Z"
    }
   },
   "source": "import os",
   "outputs": [],
   "execution_count": 1
  },
  {
   "metadata": {
    "ExecuteTime": {
     "end_time": "2024-12-04T23:29:55.494240Z",
     "start_time": "2024-12-04T23:29:55.191727Z"
    }
   },
   "cell_type": "code",
   "source": [
    "added_path = \"\"\n",
    "if os.getenv(\"COLAB_RELEASE_TAG\"):\n",
    "    !git clone --depth=1 -q https://github.com/Team-Nando/Tutorial-DERHostingCapacity-1-AdvancedTools_LV\n",
    "    !pip install dss-python==0.15.3\n",
    "    added_path = '/Tutorial-DERHostingCapacity-1-AdvancedTools_LV'\n",
    "import dss"
   ],
   "outputs": [],
   "execution_count": 2
  },
  {
   "cell_type": "markdown",
   "metadata": {
    "pycharm": {
     "name": "#%% md\n"
    }
   },
   "source": [
    "<a id='4'></a>\n",
    "### 2.2 Set the working path\n",
    "Run the code in the cell below to get your working path. As an output you get the location of this notebook in your computer.  \n",
    "\n",
    "<font color='red'>**<u>Note</u>:**</font> You should always open the Jupyter Notebook file from the folder that you uploaded to Jupyter Notebook. If you want to continue working later, you can simply save the changes and then open the **.ipynb** file again and continue working from where you left."
   ]
  },
  {
   "cell_type": "code",
   "metadata": {
    "pycharm": {
     "name": "#%%\n"
    },
    "ExecuteTime": {
     "end_time": "2024-12-04T23:29:55.682673Z",
     "start_time": "2024-12-04T23:29:55.678622Z"
    }
   },
   "source": [
    "my_directory = os.getcwd() + added_path\n",
    "print(f\"The direction is located in the following path: my_directory = {my_directory}\")"
   ],
   "outputs": [
    {
     "name": "stdout",
     "output_type": "stream",
     "text": [
      "The direction is located in the following path: my_directory = C:\\Users\\AAVILAROJAS\\Documents\\Tutorial-DERHostingCapacity-1-AdvancedTools_LV\n"
     ]
    }
   ],
   "execution_count": 3
  },
  {
   "cell_type": "markdown",
   "metadata": {
    "pycharm": {
     "name": "#%% md\n"
    }
   },
   "source": [
    "### 2.3 Set up dss_engine\n",
    "Before running the code in Python, we need to set up the **dss_engine** which will be used for OpenDSS commands.\n"
   ]
  },
  {
   "cell_type": "code",
   "metadata": {
    "pycharm": {
     "name": "#%%\n"
    },
    "ExecuteTime": {
     "end_time": "2024-12-04T23:29:55.730618Z",
     "start_time": "2024-12-04T23:29:55.726822Z"
    }
   },
   "source": [
    "dss_engine = dss.DSS\n",
    "DSSText = dss_engine.Text\n",
    "DSSCircuit = dss_engine.ActiveCircuit\n",
    "DSSSolution = dss_engine.ActiveCircuit.Solution\n",
    "ControlQueue = dss_engine.ActiveCircuit.CtrlQueue\n",
    "dss_engine.AllowForms = 0"
   ],
   "outputs": [],
   "execution_count": 4
  },
  {
   "cell_type": "markdown",
   "metadata": {
    "pycharm": {
     "name": "#%% md\n"
    }
   },
   "source": [
    "### 2.4 Network Modelling - Creating a Circuit\n",
    "Since we have imported all necessary modules and set up the OpenDSS engine, we can move to the actual modelling of the simple LV network presented in Figure 1.\n",
    "\n",
    "You will notice that we use the **`DSSText.Command = 'command'`** many times. This is how we send commands to OpenDSS, so anything that is after this command and between 'quotes' is writen in the OpenDSS language (e.g., 'Clear').\n",
    "\n",
    "The first steps to model the network in OpenDSS is to set up a circuit and its main parameters, as explained below.\n",
    "\n",
    "1. **`Clear`** is used to clear any existent model.\n",
    "2. **`Set DefaultBaseFrequency=50`** sets the frequency for the circuit (i.e., the network) to 50Hz. (Always set the default base frequency to the correct value. There can be no conflict between this frequency and any other stated frequency in the code.)\n",
    "3. **`New Circuit.Simple_LV_Network`** creates a new circuit named \"Simple_LV_Network\". The name put after the point will be the name of your circuit.\n",
    "4. **`Edit vsource.source bus1=sourceBus basekv=11 pu=1.0 phases=3`** edits the source bus named source (i.e., source bus is how OpenDSS names our old friend slack bus) and set its parameters.\n",
    "\n",
    "<font color='red'>**<u>Note</u>:**</font> Do not change the order of these commands nor any of the parameters.\n"
   ]
  },
  {
   "cell_type": "code",
   "metadata": {
    "pycharm": {
     "name": "#%%\n"
    },
    "ExecuteTime": {
     "end_time": "2024-12-04T23:29:55.808101Z",
     "start_time": "2024-12-04T23:29:55.803640Z"
    }
   },
   "source": [
    "DSSText.Command = 'Clear'\n",
    "DSSText.Command = 'Set DefaultBaseFrequency=50'\n",
    "DSSText.Command = 'New Circuit.Simple_LV_Network'\n",
    "DSSText.Command = 'Edit vsource.source bus1=sourceBus basekv=11 pu=1.0 phases=3'"
   ],
   "outputs": [],
   "execution_count": 5
  },
  {
   "cell_type": "markdown",
   "metadata": {
    "pycharm": {
     "name": "#%% md\n"
    }
   },
   "source": [
    "### 2.5 Adding the 11kV/0.4kV Transformer  \n",
    "As we can see from Figure 1, the network has **one** transformer. Below is the explanation of the command (next code cell) used to set up the transformer named here as LVTR.\n",
    "- **`New Transformer.LVTR`** creates a new transformer named LVTR.\n",
    "- **`Buses=[sourceBus, A.1.2.3]`** sets the two buses that the transformer LVTR is connected to. They are the **sourceBus** and bus **A**.\n",
    "- **`Conns=[delta wye]`** sets the connection of the three-phase transformer in each bus. The transfomer is connected in a delta-wye configuration.\n",
    "- **`KVs=[11.0, 0.4]`** sets the transformer ratio, which is 11kV to 0.4kV.\n",
    "- **`KVAs=[250 250]`** sets the transformer rated capacity in kVA, which is 250kVA.\n",
    "- **`%Rs=0.00`** sets the series resistance in percentage of pu, which is assumed to be zero.\n",
    "- **`Xhl=2.5`** sets the reactance in percentage of pu, which is 2.5.\n",
    "- **`%loadloss=0`** sets the percentage of loss at rated power, which is assumed to be zero.\n",
    "\n",
    "<font color='red'>**<u>Note</u>:**</font> Although the settings are explained here in a separated way, do not separate them in the code. The code should be as shown below."
   ]
  },
  {
   "cell_type": "code",
   "metadata": {
    "pycharm": {
     "name": "#%%\n"
    },
    "ExecuteTime": {
     "end_time": "2024-12-04T23:29:55.831639Z",
     "start_time": "2024-12-04T23:29:55.828323Z"
    }
   },
   "source": [
    "DSSText.Command = 'New transformer.LVTR Buses=[sourcebus, A.1.2.3] Conns=[delta wye] KVs=[11, 0.4] KVAs=[250 250] %Rs=0.00 xhl=2.5 %loadloss=0 '"
   ],
   "outputs": [],
   "execution_count": 6
  },
  {
   "cell_type": "markdown",
   "metadata": {
    "pycharm": {
     "name": "#%% md\n"
    }
   },
   "source": [
    "### 2.6 Creating the linecodes  \n",
    "When multiple electrical lines have the same characteristics (e.g, conductors with same cross sections), instead of writing those characteristics all over again, we create **linecodes**. We can then use linecodes in the definition of many lines.\n",
    "\n",
    "Below is the explanation of the command (next code cell) used to set up the **linecode.240sq** which is used to describe a three-phase line segment with conductors with a cross section of 240mm<sup>2</sup>.\n",
    "- **`New linecode.240sq`** creates a new line code named \"240sq\".\n",
    "- **`nphases=3`** sets the number of phases to 3.\n",
    "- **`R1=0.127`** sets the value of the resistance in ohms per unit length, which is 0.127. \n",
    "- **`X1=0.072`** sets the value of the reactance in ohms per unit length, which is 0.072. \n",
    "- **`R0=0.342`** sets the value of the zero resistance in ohms per unit length, which is 0.342. \n",
    "- **`X0=0.089`** sets the value of the zero reactance in ohms per unit length, which is 0.089. \n",
    "- **`Units=km`** sets the units in which their length is expressed, which is kilometers.\n",
    "- **`normamps=208`** sets the ampacity of the line, which is in amps (A).\n",
    "\n",
    "The same applies to **linecode.16sq** just with different characteristics.\n",
    "  \n",
    "<font color='red'>**<u>Note</u>:**</font> Although the settings are explained here in a separated way, do not separate them in the code. The code should be as shown below."
   ]
  },
  {
   "cell_type": "code",
   "metadata": {
    "pycharm": {
     "name": "#%%\n"
    },
    "ExecuteTime": {
     "end_time": "2024-12-04T23:29:55.848702Z",
     "start_time": "2024-12-04T23:29:55.843816Z"
    }
   },
   "source": [
    "DSSText.Command = 'new linecode.240sq nphases=3 R1=0.127 X1=0.072 R0=0.342 X0=0.089 units=km normamps = 208'\n",
    "DSSText.Command = 'new linecode.16sq nphases=1 R1=1.15 X1=0.083 R0=1.2 X0=0.083 units=km normamps = 107'"
   ],
   "outputs": [],
   "execution_count": 7
  },
  {
   "cell_type": "markdown",
   "metadata": {
    "pycharm": {
     "name": "#%% md\n"
    }
   },
   "source": [
    "#### 2.7 Creating the 400V and 230V lines\n",
    "We can notice that the LV network consists of **one** three-phase line connecting **bus A and bus B**. This is followed by **three** single-phase lines connecting **B and C**, **B and D**, and **B and E**.\n",
    "\n",
    "Below is the explanation of the command (next code cell) used to set up the three-phase **LineA_B** and the single-phase **LineB_L1**, **LineB_L2**, and **LineB_L3**.\n",
    "\n",
    "- Line 1, named \"LineA_B\" (**`New Line.LineA_B`** in the code), which connects all three phases of bus A (**`bus1=A.1.2.3`** in the code) with all three phases of bus B (**`bus2=B.1.2.3`** in the code). \n",
    "- Line 2, named \"LineB_L1\" (**`New Line.LineB_L1`** in the code), which connects one phase of bus B (**`bus1=B.1`** in the code) with that of bus C (**`bus2=C.1`** in the code). \n",
    "- Line 3, named \"LineB_L2\" (**`New Line.LineB_L2`** in the code), which connects one phase of bus B (**`bus1=B.2`** in the code) with that of bus D (**`bus2=D.1`** in the code). \n",
    "- Line 4, named \"LineB_L3\" (**`New Line.LineB_L3`** in the code), which connects one phase of bus B (**`bus1=B.3`** in the code) with that of bus E (**`bus2=E.1`** in the code).\n"
   ]
  },
  {
   "cell_type": "code",
   "metadata": {
    "pycharm": {
     "name": "#%%\n"
    },
    "ExecuteTime": {
     "end_time": "2024-12-04T23:29:55.862463Z",
     "start_time": "2024-12-04T23:29:55.858444Z"
    }
   },
   "source": [
    "DSSText.Command = 'new line.A_B bus1=A.1.2.3 bus2=B.1.2.3 length=1 phases=3 units=km linecode=240sq'\n",
    "DSSText.Command = 'new line.B_L1 bus1=B.1 bus2=C.1 length=0.01 phases=1 units=km linecode=16sq'\n",
    "DSSText.Command = 'new line.B_L2 bus1=B.2 bus2=D.1 length=0.01 phases=1 units=km linecode=16sq'\n",
    "DSSText.Command = 'new line.B_L3 bus1=B.3 bus2=E.1 length=0.01 phases=1 units=km linecode=16sq'"
   ],
   "outputs": [],
   "execution_count": 8
  },
  {
   "cell_type": "markdown",
   "metadata": {
    "pycharm": {
     "name": "#%% md\n"
    }
   },
   "source": [
    "### 2.8 Connecting loads to a bus  \n",
    "We need to model each single-phase load (each house) according to Figure 1.\n",
    "* <font color= red>Red house</font> (bus C) will be represented by Load_1 (using <font color= red> phase 1</font>)\n",
    "* <font color= blue>Blue house</font> (bus D) will be represented by Load_2 (using  <font color= blue> phase 2</font>)\n",
    "* <font color= limegreen> Green house </font> (bus E) will be represented by Load_3 (using <font color= limegreen> phase 3</font>)  \n",
    "\n",
    "Below is the explanation of the command (next code cell) used to set up **Load_1**.\n",
    "- **`New Load.Load_1`** creates a new load named \"Load_1\".\n",
    "- **`bus1=C.1`** sets the bus where the load is connected to, which is bus \"C\" phase 1.\n",
    "- **`Phases=1`** sets the number of phases for the load, which is single-phase.\n",
    "- **`kV=(0.4 3 sqrt /)`** which is a Reverse Polish Notation that sets the rated voltage of the single-phase load, which is 230V.\n",
    "- **`kW=7`** sets the rated active power of the load, which is 7kW.\n",
    "- **`pf=0.95`** sets the power factor of the load, which is 0.95pu (lagging/inductive).\n",
    "- **`model=1`** sets the load to constant P+jQ load model.  \n",
    "- **`conn=wye`** sets the connection type (in this case, wye or star).  \n",
    "- **`Vminpu=0.85`** sets the minimum voltage in per unit for which the load model is assumed to be valid.\n",
    "- **`Vmaxpu=1.20`** sets the maximum voltage in per unit for which the load model is assumed to be valid.\n",
    "- **`Status=Fixed`** defines the variable nature of the load (in this case, fixed).\n",
    "\n",
    "The same applies to **Load_2** and **Load_3** but considering the parameters in the table below.\n",
    "\n",
    "| Load Name | Phases | Connected bus | Peak Demand (kW) |  PF  |\n",
    "|:---------:|:------:|:-------------:|:-----------:|:----:|\n",
    "|   Load_1  |    1   |       C       |      7      | 0.95 |\n",
    "|   Load_2  |    1   |       D       |      6      | 0.95 |\n",
    "|   Load_3  |    1   |       E       |      8      | 0.95 |\n",
    "\n",
    "<font color='red'>**<u>Note</u>:**</font> Do not change the values of the `model`, `Vminpu` or `Vmaxpu`. For different demands, the values of **`kW`** and **`pf`** should be changed accordingly."
   ]
  },
  {
   "cell_type": "code",
   "metadata": {
    "pycharm": {
     "name": "#%%\n"
    },
    "ExecuteTime": {
     "end_time": "2024-12-04T23:29:55.874464Z",
     "start_time": "2024-12-04T23:29:55.871470Z"
    }
   },
   "source": [
    "DSSText.Command = 'new load.Load_1 bus1=C.1 phases=1 kV=(0.4 3 sqrt /) kW=7 pf=0.95 model=1 conn=wye Vminpu=0.85 Vmaxpu=1.20 status=fixed'\n",
    "DSSText.Command = 'new load.Load_2 bus1=D.1 phases=1 kV=(0.4 3 sqrt /) kW=6 pf=0.95 model=1 conn=wye Vminpu=0.85 Vmaxpu=1.20 status=fixed'\n",
    "DSSText.Command = 'new load.Load_3 bus1=E.1 phases=1 kV=(0.4 3 sqrt /) kW=8 pf=0.95 model=1 conn=wye Vminpu=0.85 Vmaxpu=1.20 status=fixed'"
   ],
   "outputs": [],
   "execution_count": 9
  },
  {
   "cell_type": "markdown",
   "metadata": {
    "pycharm": {
     "name": "#%% md\n"
    }
   },
   "source": [
    "### 2.9 Set the Control mode and the Voltage bases\n",
    "Since at this stage we are not controlling network elements (e.g., on-load tap changers) nor we are doing time-varying analyses, we will set our `controlmode` and `mode` to **static** and **snapshot**, respectively. We are just doing a simple, single power flow run.\n",
    "\n",
    "Here we also set the voltage bases of the circuit (**`Set VoltageBases= [11.0, 0.4]`** in the code).\n",
    "\n",
    "And with the command **`calcvoltagebases`** we obtain the p.u. values of the voltages. "
   ]
  },
  {
   "cell_type": "code",
   "metadata": {
    "pycharm": {
     "name": "#%%\n"
    },
    "ExecuteTime": {
     "end_time": "2024-12-04T23:29:55.885551Z",
     "start_time": "2024-12-04T23:29:55.881490Z"
    }
   },
   "source": [
    "DSSText.Command = 'set controlmode=static'\n",
    "DSSText.Command = 'set mode=snapshot'\n",
    "DSSText.Command = 'Set VoltageBases=[11 0.4]'\n",
    "DSSText.Command = 'calcvoltagebases'\n",
    "DSSText.Command = 'Set maxcontroliter=1000'"
   ],
   "outputs": [],
   "execution_count": 10
  },
  {
   "cell_type": "markdown",
   "metadata": {
    "pycharm": {
     "name": "#%% md\n"
    }
   },
   "source": [
    "### 2.10 Run the power flow simulation  \n",
    "We will run the power flow simulation for our circuit using the command **`DSSSolution.Solve()`**.\n",
    "\n",
    "If the Solution converged, you will see a note saying so (and the results if applicable). If not, then there is a mistake in the code. In that case, usually a <font color='red'>DSSException</font> cell appears bellow the cell that has an error, giving direction where the error is located.\n",
    "\n",
    "<font color='red'>**<u>Note</u>:**</font> This command comes **after modelling all of the elements of the network**.\n"
   ]
  },
  {
   "cell_type": "code",
   "metadata": {
    "pycharm": {
     "name": "#%%\n"
    },
    "ExecuteTime": {
     "end_time": "2024-12-04T23:29:55.897766Z",
     "start_time": "2024-12-04T23:29:55.892487Z"
    }
   },
   "source": [
    "DSSSolution.Solve()\n",
    "if DSSSolution.Converged:\n",
    "    print(\"The Circuit was Successfully Solved :-)\")\n",
    "    print(\"\\n\")"
   ],
   "outputs": [
    {
     "name": "stdout",
     "output_type": "stream",
     "text": [
      "The Circuit was Successfully Solved :-)\n",
      "\n",
      "\n"
     ]
    }
   ],
   "execution_count": 11
  },
  {
   "cell_type": "markdown",
   "metadata": {
    "pycharm": {
     "name": "#%% md\n"
    }
   },
   "source": [
    "### 2.11 Extracting the results\n",
    "Once we have solved the circuit we can **extract the results** from the successful power flow simulation.\n",
    "\n",
    "There are different ways and different commands for extracting the results. Some of them are listed below."
   ]
  },
  {
   "cell_type": "markdown",
   "metadata": {
    "pycharm": {
     "name": "#%% md\n"
    }
   },
   "source": [
    "#### 2.11.1 Load Active (P) and Reactive (Q) Power\n",
    "Although, in our case, we have already specified these values, we can verify them.\n",
    "\n",
    "In order to extract the active and reactive power of the loads, there are two consecutive commands in OpenDSS:\n",
    "- The first one sets the specific load element as an **`active`** element.\n",
    "- The second one extracts the **`active power (P) [kW]`** or **`reactive power (Q) [kvar]`** of the load.\n",
    "\n",
    "Since we are working with **three loads**, we need to set them active one by one and extract their P and Q values."
   ]
  },
  {
   "metadata": {
    "ExecuteTime": {
     "end_time": "2024-12-05T00:02:47.991987Z",
     "start_time": "2024-12-05T00:02:47.986162Z"
    }
   },
   "cell_type": "code",
   "source": [
    "load_names = [\"Load_1\", \"Load_2\", \"Load_3\"]\n",
    "# Print in a table\n",
    "print(\"Active power (P) and Reactive power (Q) demand of the loads:\")\n",
    "print(\"---------------------------------\")\n",
    "print(f\"| Load Name | P (kW) | Q (kVAr) |\")\n",
    "print(\"---------------------------------\")\n",
    "for load in load_names:\n",
    "    DSSCircuit.SetActiveElement(f\"Load.{load}\")\n",
    "    print(f\"|  {load}   | {round(DSSCircuit.ActiveElement.Powers[0], 3):.3f}  |  {round(DSSCircuit.ActiveElement.Powers[1], 3):.3f}   |\")\n",
    "print(\"---------------------------------\")"
   ],
   "outputs": [
    {
     "name": "stdout",
     "output_type": "stream",
     "text": [
      "Active power (P) and Reactive power (Q) demand of the loads:\n",
      "---------------------------------\n",
      "| Load Name | P (kW) | Q (kVAr) |\n",
      "---------------------------------\n",
      "|  Load_1   | 7.000  |  2.300   |\n",
      "|  Load_2   | 6.000  |  1.972   |\n",
      "|  Load_3   | 7.999  |  2.629   |\n",
      "---------------------------------\n"
     ]
    }
   ],
   "execution_count": 50
  },
  {
   "cell_type": "markdown",
   "metadata": {
    "pycharm": {
     "name": "#%% md\n"
    }
   },
   "source": [
    "#### 2.11.2 Voltage magnitudes of the single-phase buses (connection point of the houses)\n",
    "To extract the voltages of the load buses, there are 4 consecutive commands in OpenDSS:\n",
    "- The first one sets the specific load as an **`active`** element.\n",
    "- The second one extracts the name of the bus to which the load is connected and stores it in a variable called `bus_name`. \n",
    "- The third one sets the corresponding bus as an **`active`** element.\n",
    "- The fourth one extracts the **`voltage magnitude`** of the active bus in p.u.\n",
    "\n",
    "To **extract the voltage magnitudes of the buses connected to the other loads**, you just need to change the name of the load (similar as done in the previous subsection **2.11.1**)"
   ]
  },
  {
   "cell_type": "code",
   "metadata": {
    "pycharm": {
     "name": "#%%\n"
    },
    "ExecuteTime": {
     "end_time": "2024-12-04T23:56:37.103895Z",
     "start_time": "2024-12-04T23:56:37.096716Z"
    }
   },
   "source": [
    "active_load = \"Load_1\" \n",
    "DSSCircuit.SetActiveElement(f\"Load.{active_load}\") # Set the load as an active element\n",
    "bus_name = DSSCircuit.ActiveElement.Properties('bus1').Val # Extract the name of the bus connected to the load\n",
    "DSSCircuit.SetActiveBus(bus_name) # Set the bus as an active element\n",
    "print(f\"The voltage [in p.u.] of the bus connected to {active_load} = {round(DSSCircuit.ActiveBus.puVmagAngle[0], 3)} pu\") # Extract the voltage magnitude of the active bus"
   ],
   "outputs": [
    {
     "name": "stdout",
     "output_type": "stream",
     "text": [
      "The voltage [in p.u.] of the bus connected to Load_1 = 0.977 pu\n"
     ]
    }
   ],
   "execution_count": 36
  },
  {
   "cell_type": "markdown",
   "metadata": {
    "pycharm": {
     "name": "#%% md\n"
    }
   },
   "source": [
    "#### 2.11.3 Voltage magnitudes of the three-phase buses \n",
    "To extract the voltages of the three-phase buses, there are three consecutive commands in OpenDSS:\n",
    "- The first one sets the bus we want to extract the voltage magnitudes from (`active_bus = \"A\"`).\n",
    "- The second one sets the specific bus as an **`active`** element.\n",
    "- The third one extracts the **`voltage magnitude`** of the active bus in p.u. per phase.\n",
    "  - The results of the voltage magnitudes are given in a matrix where the even numbers: 0, 2, and 4 give the voltage magnitudes of phases 1, 2, and 3, respectively. "
   ]
  },
  {
   "metadata": {
    "ExecuteTime": {
     "end_time": "2024-12-04T23:56:09.814850Z",
     "start_time": "2024-12-04T23:56:09.810002Z"
    }
   },
   "cell_type": "code",
   "source": [
    "active_bus = \"A\"  # ← only change the bus name (sourcebus, A, B)\n",
    "DSSCircuit.SetActiveBus(active_bus)\n",
    "print(f\"Voltage magnitudes at bus {active_bus}:  \")\n",
    "for phase in DSSCircuit.ActiveBus.Nodes: # Loop over the phases of the bus\n",
    "    print(f\"Phase {phase} = {round(DSSCircuit.ActiveBus.puVmagAngle[2*phase - 2], 3)} pu\") # The series 2*phase - 2 is used to extract the voltage magnitude of the phase"
   ],
   "outputs": [
    {
     "name": "stdout",
     "output_type": "stream",
     "text": [
      "Voltage magnitudes at bus A:  \n",
      "Phase 1 = 0.999 pu\n",
      "Phase 2 = 0.999 pu\n",
      "Phase 3 = 0.999 pu\n"
     ]
    }
   ],
   "execution_count": 35
  },
  {
   "cell_type": "markdown",
   "metadata": {
    "pycharm": {
     "name": "#%% md\n"
    }
   },
   "source": [
    "#### 2.11.4 Active (P) and reactive (Q) power of the transformer\n",
    "To extract the active and reactive power of the transformer per phase there are two consecutive commands in OpenDSS:  \n",
    "- The first one sets the transformer as an **`active`** element.\n",
    "- The second one extracts the P and Q per phase such that:\n",
    "  - The even numbers: **8, 10, and 12** give the values of the `active power (P) [kW]` of phases 1, 2 and 3, respectively.\n",
    "  - The odd numbers: **9, 11, and 13** give the values of the `reactive power (Q) [kvar]` of phases 1, 2 and 3, respectively."
   ]
  },
  {
   "metadata": {
    "ExecuteTime": {
     "end_time": "2024-12-04T23:54:37.063195Z",
     "start_time": "2024-12-04T23:54:37.056916Z"
    }
   },
   "cell_type": "code",
   "source": [
    "DSSCircuit.SetActiveElement('transformer.LVTR')\n",
    "active_power = abs(DSSCircuit.ActiveElement.Powers[8:13:2]) # Range from 8 to 14 with step 2, selecting 8, 10, and 12\n",
    "reactive_power = abs(DSSCircuit.ActiveElement.Powers[9:14:2]) # Range from 9 to 14 with step 2, selecting 9, 11, and 13\n",
    "\n",
    "# Print values in a table\n",
    "print(\"Active Power (P) and Reactive Power (Q) of the Transformer LVTR per phase:\")\n",
    "print(\"-----------------------------\")\n",
    "print(f\"| Phase | P (kW) | Q (kVAr) |\")\n",
    "print(\"-----------------------------\")\n",
    "for phase, P, Q in zip(range(1, 4), active_power, reactive_power):\n",
    "    print(f\"|   {phase}   | {round(P, 3)}  |  {round(Q, 3)}   |\")\n",
    "print(\"-----------------------------\")"
   ],
   "outputs": [
    {
     "name": "stdout",
     "output_type": "stream",
     "text": [
      "Active Power (P) and Reactive Power (Q) of the Transformer LVTR per phase:\n",
      "-----------------------------\n",
      "| Phase | P (kW) | Q (kVAr) |\n",
      "-----------------------------\n",
      "|   1   | 7.145  |  2.398   |\n",
      "|   2   | 6.094  |  2.019   |\n",
      "|   3   | 8.213  |  2.722   |\n",
      "-----------------------------\n"
     ]
    }
   ],
   "execution_count": 33
  },
  {
   "cell_type": "markdown",
   "metadata": {
    "pycharm": {
     "name": "#%% md\n"
    }
   },
   "source": [
    "#### 2.11.5 Line Losses\n",
    "To extract the losses of the lines there are two consecutive commands in OpenDSS:\n",
    "- The first one stores all the losses in a variable named `\"line_loss\"`.\n",
    "- The second one extracts the losses, such that the first value gives the active power losses (in `kW`) and the second value gives the reactive power losses (in `kvar`)."
   ]
  },
  {
   "cell_type": "code",
   "metadata": {
    "pycharm": {
     "name": "#%%\n"
    },
    "ExecuteTime": {
     "end_time": "2024-12-05T00:02:03.100081Z",
     "start_time": "2024-12-05T00:02:03.095313Z"
    }
   },
   "source": [
    "line_loss = DSSCircuit.LineLosses\n",
    "print(f\"Results of the Power Losses: \")\n",
    "print(f\"Active power (P) losses = {round(abs(line_loss[0]), 3)} kW\")\n",
    "print(f\"Reactive power (Q) losses = {round(abs(line_loss[1]), 3)} kVAr\")"
   ],
   "outputs": [
    {
     "name": "stdout",
     "output_type": "stream",
     "text": [
      "Results of the Power Losses: \n",
      "Active power (P) losses = 0.455 kW\n",
      "Reactive power (Q) losses = 0.237 kVAr\n"
     ]
    }
   ],
   "execution_count": 49
  },
  {
   "cell_type": "markdown",
   "metadata": {
    "pycharm": {
     "name": "#%% md\n"
    }
   },
   "source": [
    "## 3. Exercises\n",
    "\n",
    "First, read all the exercises so you understand their purpose.\n",
    "\n",
    "At the very end of this notebook in **4. Simulation Workspace**, you will be able to place all your code to run it at once. Remember, you should use **`code`** that is relevant to each exercise."
   ]
  },
  {
   "cell_type": "markdown",
   "metadata": {
    "pycharm": {
     "name": "#%% md\n"
    }
   },
   "source": [
    "### **Exercise 1: Expanding the Simple LV network**\n",
    "\n",
    "This exercise covers two expansions. In the first one, you need to expand the LV network from Figure 1 to the one shown in Figure 2 (three new houses). In the second one, you will need to add **solar PV systems** to those new houses, as shown in Figure 3."
   ]
  },
  {
   "cell_type": "markdown",
   "metadata": {
    "pycharm": {
     "name": "#%% md\n"
    }
   },
   "source": [
    "<center> <img style=\"float: middle;\" src=\"Figure_2.png\" width=\"50%\"> </center>"
   ]
  },
  {
   "cell_type": "markdown",
   "metadata": {
    "pycharm": {
     "name": "#%% md\n"
    }
   },
   "source": [
    "**<center> Figure 2. Expanded Simple LV Network</center>** "
   ]
  },
  {
   "cell_type": "markdown",
   "metadata": {
    "pycharm": {
     "name": "#%% md\n"
    }
   },
   "source": [
    "Include the new elements described below using, as starting point, the code from the previous section (**2. Tutorial**). Remember to use the `relevant cell` for each type of element.\n",
    "\n",
    "- One **`three-phase line`** connecting bus **B** and bus **F**\n",
    "- Three **`single-phase lines`** connecting: \n",
    "  - **Bus F** (phase 1) and **bus G** : length = 0.01 km, linecode=16sq;\n",
    "  - **Bus F** (phase 2) and **bus H** : length = 0.01 km, linecode=16sq;\n",
    "  - **Bus F** (phase 3) and **bus J** : length = 0.01 km, linecode=16sq;\n",
    "- Three **`single-phase loads`**: \n",
    "  - **`Load_4`** connected to **bus G** \n",
    "  - **`Load_5`** connected to **bus H** \n",
    "  - **`Load_6`** connected to **bus J** \n",
    "\n",
    "The load parameters for the three single-phase loads are given in `Table 1`. The characteristics of the annual load duration curve are given in `Table 2`.\n",
    "\n",
    "\n",
    "<center> Table 1. Load Parameters</center>\n",
    "\n",
    "\n",
    " \n",
    "| Load Name | Phases | Connected bus | Peak Demand (kW) |  PF  |\n",
    "|:---------:|:------:|:-------------:|:-----------:|:----:|\n",
    "|   Load_4  |    1   |       G       |      7      | 0.95 |\n",
    "|   Load_5  |    1   |       H       |      9      | 0.95 |\n",
    "|   Load_6  |    1   |       J       |      8      | 0.95 |\n",
    "\n",
    "\n",
    "\n",
    "<center> Table 2. Annual Load Duration</center>\n",
    "\n",
    " \n",
    "|  <center> Peak</center>  |    <center>Medium (67% of Peak)</center>  |  <center>Minimum (33% of Peak)</center>|\n",
    "| :------:                 | :------:                                  | :------:                               |\n",
    "|<center>1650 hours</center>|  <center>4280 hours</center>|  <center>2830 hours </center>|\n",
    "\n",
    "\n",
    "**E1.1:** Calculate the total annual energy losses of the circuit in kWh. Is this value different from the previous case (Figure 1)? If so, why?\n",
    "\n",
    "**E1.2:** Extract the voltages (in pu) of all the houses for each loading level. Considering that the upper and lower statutory voltage limits are +10% and - 6% of nominal, are those voltages compliant with these limits at all times? If not, why?"
   ]
  },
  {
   "cell_type": "markdown",
   "metadata": {
    "pycharm": {
     "name": "#%% md\n"
    }
   },
   "source": [
    "Now, you will need to add the **solar PV systems** to each of new houses as shown in Figure 3.\n",
    "\n",
    "The code to add a PV system is the following: `DSSText.Command = 'new PVSystem.PV4 bus1=G.1 phases = 1 kva = 5 pmpp = 5 pf = 1 kV=(0.4 3 sqrt /) model=1'`, where: \n",
    "- **`New PVSystem.PV4`** creates a new PV system named \"PV4\". (because it is connected to the same bus as Load_4)\n",
    "- **`bus1=C.1`** sets the bus where the PV system is connected to, which is bus \"C\" phase 1.\n",
    "- **`Phases=1`** sets the number of phases for the PV system, which is single-phase.\n",
    "- **`kva= 5`** is the PV system maximum installed capacity, which is 5kVA.\n",
    "- **`pmpp=5`** sets the maximum power point of the PV systems, or the maximum output of the PV, which is 5kW.\n",
    "- **`pf=1`** sets the power factor of the PV system, which in this case is unity (no reactive power).\n",
    "- **`kV=(0.4 3 sqrt /)`** which is a Reverse Polish Notation that sets the rated voltage of the PV system, which is 230V.\n",
    "- **`model=1`** sets the PV system to constant P+jQ model (**do not change this value**). \n",
    "\n",
    "The same PV system is added to bus H and bus J.  \n",
    "\n",
    "<font color='red'>**<u>Note</u>:**</font> You should include the code for PV systems right after the code for connecting loads to a bus.\n",
    "\n",
    "<font color='purple'>**<u>Tech Note</u>:**</font> The kVA is for the inverter and the pmpp is for the panels. These numbers can be different. For instance, you can have a large roof where you can place 8kW of panels but your distribution company imposes an export limit of 5kW. In this case, you would use kVA=5 and pmpp=8.\n",
    "\n",
    "</br>\n",
    "\n",
    "<center> <img style=\"float: middle;\" src=\"Figure_3.png\" width=\"50%\"> </center>\n",
    "\n",
    "**<center> Figure 3. Expanded Simple LV Network with Solar PV Systems</center>** "
   ]
  },
  {
   "cell_type": "markdown",
   "metadata": {
    "pycharm": {
     "name": "#%% md\n"
    }
   },
   "source": [
    "**E1.3:** Once you add the PV systems, extract the voltages (in pu) of all the houses for each loading level. Are those voltages compliant with the statutory limits at all times? If not, why?"
   ]
  },
  {
   "cell_type": "markdown",
   "metadata": {},
   "source": [
    "### **Exercise 2: Modelling a New Simple LV Network**\n",
    "\n",
    "In this exercise, you will model a new LV network from scratch.\n",
    "\n",
    "<font color='red'>**<u>Note</u>:**</font> You must follow the sequence as in **\"2. Tutorial\"**, so that your power flow converges.\n",
    "\n",
    "The configuration of the LV network is given in Figure 4. \n",
    "\n",
    "<center> <img style=\"float: middle;\" src=\"Figure_4.png\" width=\"60%\"> </center>\n",
    "\n",
    "**<center> Figure 4. New Simple LV Network</center>** \n",
    "\n",
    "Here are the characteristics of the elements:\n",
    "- **`SourceBus`**: 11kV, three-phase \n",
    "- **`Transformer`**: delta/wye connection, 11kV to 0.4kV TR ratio, 250kVA rated capacity, 0% series resistance, 2.5pu reactance, 0% percentage of loss at rated power.\n",
    "- **`Linecodes`**:\n",
    "  - **Linecode.240sq**: 3-phase, resistance=0.127, reactance=0.072, zero resistance=0.342, zero reactance=0.089 , units=km\n",
    "  - **Linecode.16sq**: 1-phase, resistance=1.15, reactance=0.083, zero resistance=1.2, zero reactance=0.083 , units=km \n",
    "  - **Linecode.185sq**: 3-phase, resistance=0.78, reactance=0.042, zero resistance=1.08, zero reactance=0.093 , units=km\n",
    "- **`3-phase Lines`**: \n",
    "  - **Line.A_B_1**: length=1km, linecode=240sqmm\n",
    "  - **Line.A_B_2**: length=1km, linecode=240sqmm\n",
    "  - **Line.B_C**: length=0.8km, linecode=240sqmm\n",
    "  - **Line.C_D**: length=0.6km, linecode=240sqmm\n",
    "  - **Line.D_J**: length=0.01km, linecode=185sqmm\n",
    "- **`Single-phase lines`**: \n",
    "  - **Line.B_E**: length=0.01km, linecode=16sqmm\n",
    "  - **Line.C_F**: length=0.01km, linecode=16sqmm\n",
    "  - **Line.C_G**: length=0.01km, linecode=16sqmm\n",
    "  - **Line.D_H**: length=0.01km, linecode=16sqmm\n",
    "- **`Single-phase Loads`**: \n",
    "  - **Load_1**: connected to bus E, rated voltage: (0.4 3 sqrt /), rated active power and power factor (Table 3), constant P+jQ load model, Vminpu=0.85, Vmaxpu=1.20\n",
    "  - **Load_2**: connected to bus F, rated voltage: (0.4 3 sqrt /), rated active power and power factor (Table 3), constant P+jQ load model, Vminpu=0.85, Vmaxpu=1.20\n",
    "  - **Load_3**: connected to bus G, rated voltage: (0.4 3 sqrt /), rated active power and power factor (Table 3), constant P+jQ load model, Vminpu=0.85, Vmaxpu=1.20\n",
    "  - **Load_4**: connected to bus H, rated voltage: (0.4 3 sqrt /), rated active power and power factor (Table 3), constant P+jQ load model, Vminpu=0.85, Vmaxpu=1.20\n",
    "- **`Three-phase Loads`**: \n",
    "  - **Load_5**: connected to bus J, rated voltage: 0.4, rated active power and power factor (Table 3), constant P+jQ load model, Vminpu=0.85, Vmaxpu=1.20\n",
    "  \n",
    " - **`PV Systems`**: **Include them only when it is specified in the exercise**\n",
    "   - **PV_1**: connected to bus E, single-phase, total installed capacity= 5kVA, maximum power point =5kW, rated voltage: (0.4 3 sqrt /)\n",
    "   - **PV_2**: connected to bus F, single-phase, total installed capacity= 5kVA, maximum power point =5kW, rated voltage: (0.4 3 sqrt /)\n",
    "   - **PV_3**: connected to bus G, single-phase, total installed capacity= 5kVA, maximum power point =5kW, rated voltage: (0.4 3 sqrt /)\n",
    "   - **PV_4**: connected to bus H, single-phase, total installed capacity= 5kVA, maximum power point =5kW, rated voltage: (0.4 3 sqrt /)\n",
    "  \n",
    "The load parameters for the loads are given in `Table 3`, whereas the characteristics of the annual load duration curve are given in `Table 4`.\n",
    "\n",
    "<br>\n",
    " <center> Table 3. Load Parameters </center>\n",
    "\n",
    "| Load Name | Phases | Connected bus | Demand (kW) |  PF  |\n",
    "|:---------:|:------:|:-------------:|:-----------:|:----:|\n",
    "|   Load_1  |    1   |       E       |      6      | 0.95 |\n",
    "|   Load_2  |    1   |       F       |      4      | 0.95 |\n",
    "|   Load_3  |    1   |       G       |      6      | 0.95 |\n",
    "|   Load_4  |    1   |       H       |      7      | 0.95 |\n",
    "|   Load_5  |    3   |       J       |     15      | 0.95 |\n",
    "\n",
    "<br>\n",
    "<center> Table 4. Annual Load Duration</center>\n",
    "\n",
    " \n",
    "|  <center> Peak</center>  |    <center>Medium (75% of Peak)</center>  |  <center>Minimum (25% of Peak)</center>|\n",
    "| :------:                 | :------:                                  | :------:                               |\n",
    "|<center>1750 hours</center>|  <center>4380 hours</center>|  <center>2630 hours </center>|"
   ]
  },
  {
   "cell_type": "markdown",
   "metadata": {},
   "source": [
    "For the network configuration given in `Figure 4`:\n",
    "\n",
    "**E2.1:** Calculate the total annual energy losses of the circuit in kWh. \n",
    "\n",
    "**E2.2:** Extract the voltages (in pu) of all the houses for each loading level. Are those voltages compliant with the statutory limits at all times? If not, why?\n",
    "\n",
    "Now, consider the network configuration given in `Figure 5` and add the corresponding solar PV systems.\n",
    "\n",
    "<center> <img style=\"float: middle;\" src=\"Figure_5.png\" width=\"60%\"> </center>\n",
    "\n",
    "**<center> Figure 5. New Simple LV Network with PV Systems </center>** \n",
    "\n",
    "**E2.3:** Calculate the total annual energy losses of the circuit in kWh. Is this value different from the previous case (Figure 4)? If so, why?\n",
    "\n",
    "**E2.4:** Extract the voltages (in pu) of all the houses for each loading level. Are those voltages compliant with the statutory limits at all times? If not, why?"
   ]
  },
  {
   "cell_type": "markdown",
   "metadata": {
    "pycharm": {
     "name": "#%% md\n"
    }
   },
   "source": [
    "## 4. Simulation Workspace"
   ]
  },
  {
   "cell_type": "code",
   "metadata": {
    "pycharm": {
     "name": "#%%\n"
    },
    "ExecuteTime": {
     "end_time": "2024-12-04T23:29:56.418265Z",
     "start_time": "2024-12-04T23:29:56.416021Z"
    }
   },
   "source": [],
   "outputs": [],
   "execution_count": null
  }
 ],
 "metadata": {
  "kernelspec": {
   "display_name": "Python 3 (ipykernel)",
   "language": "python",
   "name": "python3"
  },
  "language_info": {
   "codemirror_mode": {
    "name": "ipython",
    "version": 3
   },
   "file_extension": ".py",
   "mimetype": "text/x-python",
   "name": "python",
   "nbconvert_exporter": "python",
   "pygments_lexer": "ipython3",
   "version": "3.9.13"
  }
 },
 "nbformat": 4,
 "nbformat_minor": 4
}
